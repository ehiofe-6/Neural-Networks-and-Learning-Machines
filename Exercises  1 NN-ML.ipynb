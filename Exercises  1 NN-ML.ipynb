{
 "cells": [
  {
   "cell_type": "markdown",
   "metadata": {},
   "source": [
    "# Task 1"
   ]
  },
  {
   "cell_type": "markdown",
   "metadata": {},
   "source": [
    "creation of a few constants and arrays"
   ]
  },
  {
   "cell_type": "code",
   "execution_count": 3,
   "metadata": {},
   "outputs": [],
   "source": [
    "import numpy as np\n",
    "import matplotlib.pyplot as plt\n",
    "\n",
    "starttime = 0;\n",
    "endtime = 1;\n",
    "R = 90*10**(6); #membrane resistance\n",
    "E_l = -65*10**(-3); #membrane resting potential\n",
    "tau_m = 30*10**(-3); #time constant\n",
    "u_th = -50*10**(-3); #threshold potential \n",
    "refrac = 0 #5*10**(-3); #resting time inbetween spikes\n",
    "u_reset = E_l; #reset potential after a spike\n",
    "\n",
    "I1 = np.ones(10000)*10**(-12)\n",
    "t = np.arange(starttime,endtime*10000)\n",
    "spike = np.zeros(10000)\n",
    "dt = (t[2]-t[1])/10000\n",
    "for i in range(0,1000):\n",
    "    I1[i] = 0\n",
    "for i in range(9000,10000):\n",
    "    I1[i] = 0\n",
    "u = np.ones(10000)*E_l;\n",
    "\n"
   ]
  },
  {
   "cell_type": "markdown",
   "metadata": {},
   "source": [
    "# a)"
   ]
  },
  {
   "cell_type": "code",
   "execution_count": 422,
   "metadata": {},
   "outputs": [
    {
     "name": "stdout",
     "output_type": "stream",
     "text": [
      "98.75\n"
     ]
    }
   ],
   "source": [
    "I1 = np.ones(10000)*500*10**(-12)\n",
    "t = np.arange(0,1*10000)\n",
    "spike = np.zeros(10000)\n",
    "\n",
    "#making the constant current for the time intervall 0.1 to 0.9\n",
    "for i in range(0,1000):\n",
    "    I1[i] = 0\n",
    "for i in range(9000,10000):\n",
    "    I1[i] = 0\n",
    "u = np.ones(10000)*E_l;\n",
    "\n",
    "#making a sum for all the spikes during 1 second of elapsed time\n",
    "for i in range(1,10000):\n",
    "    dudt = (E_l - u[i] + R*I1[i])/tau_m\n",
    "    u[i] = u[i-1] + dudt*dt\n",
    "    if u[i] > u_th:\n",
    "        u[i] = u_reset\n",
    "        spike[i] = 1\n",
    "sumSpike = sum(spike)/0.8\n",
    "\n",
    "print(sumSpike)"
   ]
  },
  {
   "cell_type": "markdown",
   "metadata": {},
   "source": [
    "As seen above if the input current is 500pA the spiking rate is equal to 98.75Hz.\n",
    "Both of which compared to the lecture slides seems reasonable"
   ]
  },
  {
   "cell_type": "markdown",
   "metadata": {},
   "source": [
    "# b)"
   ]
  },
  {
   "cell_type": "code",
   "execution_count": 424,
   "metadata": {},
   "outputs": [],
   "source": [
    "I2 = np.ones(10000)*25*10**(-12) # since j in range(0,1200) would take ages i decided to use \n",
    "# 1200/25 = 48 different values for the inputcurrent (laptop)\n",
    "\n",
    "spike = np.zeros(10000) \n",
    "dt = (t[2]-t[1])/10000\n",
    "\n",
    "#making the constant current for the time intervall 0.1 to 0.9\n",
    "for i in range(0,1000):\n",
    "    I2[i] = 0\n",
    "for i in range(9000,10000):\n",
    "    I2[i] = 0\n",
    "\n",
    "#resetting values for the previous cell\n",
    "u = np.ones(10000)*E_l;\n",
    "end = 48\n",
    "sumSpike = np.zeros(end)\n",
    "Icurrent = np.ones(end)\n",
    "\n",
    "\n",
    "for j in range(0,end):\n",
    "    for i in range(1,10000):\n",
    "        dudt = (E_l - u[i] + R*I2[i]*j)/tau_m\n",
    "        u[i] = u[i-1] + dudt*dt\n",
    "        if u[i] > u_th:\n",
    "            u[i] = u_reset\n",
    "            spike[i] = 1\n",
    "    sumSpike[j] = sum(spike)/0.8   \n",
    "    Icurrent[j] = I2[5000]*j\n",
    "    #resetting values for the next loop\n",
    "    u = np.ones(10000)*E_l;\n",
    "    spike = np.zeros(10000) "
   ]
  },
  {
   "cell_type": "code",
   "execution_count": 425,
   "metadata": {},
   "outputs": [
    {
     "name": "stdout",
     "output_type": "stream",
     "text": [
      "[  0.     0.    10.    13.75  20.    25.    28.75  33.75  38.75  43.75\n",
      "  48.75  53.75  58.75  63.75  68.75  73.75  80.    83.75  88.75  93.75\n",
      "  98.75 103.75 108.75 113.75 118.75 122.5  128.75 132.5  138.75 143.75\n",
      " 148.75 153.75 157.5  163.75 168.75 171.25 177.5  181.25 187.5  191.25\n",
      " 200.     0.     0.     0.     0.     0.     0.     0.  ]\n"
     ]
    }
   ],
   "source": [
    "#zeroing values outside of the [10 200]Hz intervall\n",
    "end = 48 \n",
    "for k in range(0,end):\n",
    "    if sumSpike[k] < 10:\n",
    "        sumSpike[k] = 0\n",
    "    if sumSpike[k] > 200:\n",
    "        sumSpike[k] = 0\n",
    "print(sumSpike)"
   ]
  },
  {
   "cell_type": "code",
   "execution_count": 426,
   "metadata": {},
   "outputs": [
    {
     "data": {
      "text/plain": [
       "Text(0, 0.5, 'Spiking rate [10 200]Hz')"
      ]
     },
     "execution_count": 426,
     "metadata": {},
     "output_type": "execute_result"
    },
    {
     "data": {
      "image/png": "[encoded data removed]",
      "text/plain": [
       "<Figure size 432x288 with 1 Axes>"
      ]
     },
     "metadata": {
      "needs_background": "light"
     },
     "output_type": "display_data"
    }
   ],
   "source": [
    "plt.plot(Icurrent,sumSpike)\n",
    "plt.xlabel('Input Current [25 1200]pA')\n",
    "plt.ylabel('Spiking rate [10 200]Hz')\n"
   ]
  },
  {
   "cell_type": "code",
   "execution_count": 427,
   "metadata": {},
   "outputs": [
    {
     "data": {
      "text/latex": [
       "No they are ot similar since the Fig. 2.11 in [2] got a refractory period $\\neq$ 0, which is what we got here\n"
      ],
      "text/plain": [
       "<IPython.core.display.Latex object>"
      ]
     },
     "metadata": {},
     "output_type": "display_data"
    }
   ],
   "source": [
    "%%latex \n",
    "No they are ot similar since the Fig. 2.11 in [2] got a refractory period $\\neq$ 0, which is what we got here"
   ]
  },
  {
   "cell_type": "markdown",
   "metadata": {},
   "source": [
    "# c) "
   ]
  },
  {
   "cell_type": "code",
   "execution_count": 428,
   "metadata": {},
   "outputs": [
    {
     "data": {
      "text/latex": [
       "$\\large T = tau_m * ln\\frac{R*I_0}{R*I_0-\\delta_{th}} , \\quad I_0 = 600pA , \\delta_{th} = abs(E_l - v_{th})$\n"
      ],
      "text/plain": [
       "<IPython.core.display.Latex object>"
      ]
     },
     "metadata": {},
     "output_type": "display_data"
    }
   ],
   "source": [
    "%%latex \n",
    "$\\large T = tau_m * ln\\frac{R*I_0}{R*I_0-\\delta_{th}} , \\quad I_0 = 600pA , \\delta_{th} = abs(E_l - v_{th})$\n"
   ]
  },
  {
   "cell_type": "code",
   "execution_count": 429,
   "metadata": {},
   "outputs": [
    {
     "name": "stdout",
     "output_type": "stream",
     "text": [
      "T =  0.009762672013038837\n",
      "T^(-1) = Hz_T = 102.43097367856046\n"
     ]
    }
   ],
   "source": [
    "T = tau_m * np.log((R*I2[5000]*24)/(R*I2[5000]*24-(u_th-E_l)))                \n",
    "print('T = ',T)\n",
    "print('T^(-1) = Hz_T =', 1/T)"
   ]
  },
  {
   "cell_type": "code",
   "execution_count": 430,
   "metadata": {},
   "outputs": [
    {
     "data": {
      "text/latex": [
       "The derived value of $Hz_T$ with the constant input current of 600pA is $ = 102 Hz$.\n",
       "Which seems like a resonable value if you compare it to the graph above \n"
      ],
      "text/plain": [
       "<IPython.core.display.Latex object>"
      ]
     },
     "metadata": {},
     "output_type": "display_data"
    }
   ],
   "source": [
    "%%latex \n",
    "The derived value of $Hz_T$ with the constant input current of 600pA is $ = 102 Hz$.\n",
    "Which seems like a resonable value if you compare it to the graph above \n"
   ]
  },
  {
   "cell_type": "code",
   "execution_count": 431,
   "metadata": {},
   "outputs": [
    {
     "data": {
      "text/latex": [
       "$\\nu = \\frac{1}{\\Delta + T} = \\frac{1}{\\Delta^{abs} + tau_m * ln\\frac{R*I_0}{R*I_0-\\delta_{th}}} = \\frac{1}{T_{\\Delta}}$\n"
      ],
      "text/plain": [
       "<IPython.core.display.Latex object>"
      ]
     },
     "metadata": {},
     "output_type": "display_data"
    }
   ],
   "source": [
    "%%latex\n",
    "$\\nu = \\frac{1}{\\Delta + T} = \\frac{1}{\\Delta^{abs} + tau_m * ln\\frac{R*I_0}{R*I_0-\\delta_{th}}} = \\frac{1}{T_{\\Delta}}$"
   ]
  },
  {
   "cell_type": "code",
   "execution_count": 68,
   "metadata": {},
   "outputs": [
    {
     "data": {
      "text/latex": [
       "Here we add a refractory period, a period that in the biological sense describes the \"recovery\" \n",
       "period for a neuron spike, to simulate an more accurate model for a spiking neuron.\n",
       "Which explains the eq. 4.9 [2]\n"
      ],
      "text/plain": [
       "<IPython.core.display.Latex object>"
      ]
     },
     "metadata": {},
     "output_type": "display_data"
    }
   ],
   "source": [
    "%%latex\n",
    "Here we add a refractory period, a period that in the biological sense describes the \"recovery\" \n",
    "period for a neuron spike, to simulate an more accurate model for a spiking neuron.\n",
    "Which explains the eq. 4.9 [2]"
   ]
  },
  {
   "cell_type": "markdown",
   "metadata": {},
   "source": [
    "# d)\n"
   ]
  },
  {
   "cell_type": "code",
   "execution_count": 433,
   "metadata": {},
   "outputs": [],
   "source": [
    "I3 = np.ones(10000)*6*10**(-12) # since j in range(0,1200) would take ages i decided to use \n",
    "# 1200/6 = 200 different values for the inputcurrent (laptop)\n",
    "\n",
    "refrac = 5*10**(-3)*10000 #resting time inbetween spikes\n",
    "spike = np.zeros(10000) \n",
    "dt = (t[2]-t[1])/10000\n",
    "\n",
    "#making the constant current for the time intervall 0.1 to 0.9\n",
    "for i in range(0,1000):\n",
    "    I3[i] = 0\n",
    "for i in range(9000,10000):\n",
    "    I3[i] = 0\n",
    "\n",
    "#resetting values for the previous cell\n",
    "u = np.ones(10000)*E_l;\n",
    "end = 200\n",
    "sumSpike1 = np.zeros(end)\n",
    "Icurrent1 = np.ones(end)\n",
    "z = 0\n",
    "\n",
    "\n",
    "for j in range(0,end):\n",
    "    for i in range(1,10000):\n",
    "        if z == 0:\n",
    "            dudt = (E_l - u[i] + R*I3[i]*j)/tau_m\n",
    "            u[i] = u[i-1] + dudt*dt\n",
    "            if u[i] > u_th:\n",
    "                u[i] = u_reset\n",
    "                spike[i] = 1\n",
    "                z = refrac # if the threshold for the spike is triggerd there is a recovery period for the \"neuron\", here that\n",
    "                # preiod is refrac = 50ms\n",
    "        elif z > 0:\n",
    "            z = z - 1\n",
    "    sumSpike1[j] = sum(spike)/0.8\n",
    "    Icurrent1[j] = I3[5000]*j\n",
    "    #resetting values for the next loop\n",
    "    u = np.ones(10000)*E_l;\n",
    "    I = np.ones(10000)*6*10**(-12)\n",
    "    for i in range(0,1000):\n",
    "        I3[i] = 0\n",
    "    for i in range(9000,10000):\n",
    "        I3[i] = 0\n",
    "    spike = np.zeros(10000)"
   ]
  },
  {
   "cell_type": "code",
   "execution_count": 434,
   "metadata": {},
   "outputs": [
    {
     "name": "stdout",
     "output_type": "stream",
     "text": [
      "[  0.     0.     0.     0.     0.     0.     0.     0.     0.    10.\n",
      "  11.25  11.25  12.5   13.75  15.    16.25  17.5   17.5   18.75  20.\n",
      "  21.25  22.5   22.5   23.75  25.    25.    26.25  27.5   28.75  28.75\n",
      "  30.    31.25  31.25  32.5   33.75  33.75  35.    36.25  36.25  37.5\n",
      "  38.75  38.75  40.    40.    41.25  42.5   42.5   43.75  43.75  45.\n",
      "  46.25  46.25  47.5   47.5   48.75  48.75  50.    50.    51.25  51.25\n",
      "  52.5   53.75  53.75  53.75  55.    55.    56.25  57.5   57.5   58.75\n",
      "  58.75  58.75  60.    60.    61.25  61.25  62.5   62.5   63.75  63.75\n",
      "  63.75  65.    65.    66.25  66.25  67.5   67.5   68.75  68.75  68.75\n",
      "  70.    70.    71.25  71.25  71.25  72.5   72.5   73.75  73.75  73.75\n",
      "  75.    75.    75.    76.25  76.25  76.25  77.5   77.5   77.5   78.75\n",
      "  78.75  78.75  80.    80.    80.    81.25  81.25  81.25  82.5   82.5\n",
      "  83.75  83.75  83.75  85.    85.    85.    85.    86.25  86.25  87.5\n",
      "  87.5   87.5   87.5   88.75  88.75  88.75  88.75  90.    90.    91.25\n",
      "  91.25  91.25  91.25  91.25  92.5   92.5   92.5   93.75  93.75  93.75\n",
      "  93.75  93.75  95.    95.    95.    96.25  96.25  96.25  97.5   97.5\n",
      "  97.5   97.5   97.5   97.5   98.75  98.75  98.75 100.   100.   100.\n",
      " 100.   101.25 101.25 101.25 102.5  102.5  102.5  102.5  102.5  102.5\n",
      " 102.5  102.5  103.75 103.75 103.75 103.75 105.   105.   105.   105.\n",
      " 106.25 106.25 106.25 106.25 107.5  107.5  107.5  107.5  107.5  108.75]\n"
     ]
    },
    {
     "data": {
      "text/plain": [
       "50.0"
      ]
     },
     "execution_count": 434,
     "metadata": {},
     "output_type": "execute_result"
    }
   ],
   "source": [
    "#zeroing values outside of the [10 200]Hz intervall\n",
    "for k in range(0,end):\n",
    "    if sumSpike1[k] < 10:\n",
    "        sumSpike1[k] = 0\n",
    "    if sumSpike1[k] > 200:\n",
    "        sumSpike1[k] = 0\n",
    "print(sumSpike1)\n",
    "refrac"
   ]
  },
  {
   "cell_type": "code",
   "execution_count": 435,
   "metadata": {},
   "outputs": [
    {
     "data": {
      "text/plain": [
       "Text(0, 0.5, 'Spiking rate [10 200]Hz')"
      ]
     },
     "execution_count": 435,
     "metadata": {},
     "output_type": "execute_result"
    },
    {
     "data": {
      "image/png": "[encoded data removed]",
      "text/plain": [
       "<Figure size 432x288 with 1 Axes>"
      ]
     },
     "metadata": {
      "needs_background": "light"
     },
     "output_type": "display_data"
    }
   ],
   "source": [
    "plt.plot(Icurrent,sumSpike)\n",
    "plt.plot(Icurrent1,sumSpike1,'--r')\n",
    "plt.xlabel('Input Current [25 1200]pA')\n",
    "plt.ylabel('Spiking rate [10 200]Hz')\n"
   ]
  },
  {
   "cell_type": "code",
   "execution_count": 436,
   "metadata": {},
   "outputs": [
    {
     "data": {
      "text/latex": [
       "Here we again have the frequency\n",
       "$\\nu = \\frac{1}{\\Delta + T} = \\frac{1}{\\Delta^{abs} + tau_m * ln\\frac{R*I_0}{R*I_0-\\delta_{th}}} = \\frac{1}{T_{\\Delta}}\\quad $\n",
       "where $\\Delta^{abs}$ = 5ms, $\\delta_{th} = abs(E_l - v_{th})$ then we calculate $\\nu$ to;\n"
      ],
      "text/plain": [
       "<IPython.core.display.Latex object>"
      ]
     },
     "metadata": {},
     "output_type": "display_data"
    }
   ],
   "source": [
    "%%latex\n",
    "Here we again have the frequency\n",
    "$\\nu = \\frac{1}{\\Delta + T} = \\frac{1}{\\Delta^{abs} + tau_m * ln\\frac{R*I_0}{R*I_0-\\delta_{th}}} = \\frac{1}{T_{\\Delta}}\\quad $\n",
    "where $\\Delta^{abs}$ = 5ms, $\\delta_{th} = abs(E_l - v_{th})$ then we calculate $\\nu$ to;"
   ]
  },
  {
   "cell_type": "code",
   "execution_count": 437,
   "metadata": {},
   "outputs": [
    {
     "name": "stdout",
     "output_type": "stream",
     "text": [
      "v = 1/T_D = 67.73841477455909 Hz\n"
     ]
    }
   ],
   "source": [
    "T_D = 5*10**(-3) + tau_m * np.log((R*I3[5000]*100)/(R*I3[5000]*100-(u_th-E_l)))\n",
    "print('v = 1/T_D =',1/T_D, 'Hz')"
   ]
  },
  {
   "cell_type": "code",
   "execution_count": 438,
   "metadata": {},
   "outputs": [
    {
     "data": {
      "text/latex": [
       "If we compare the red-dotted line on the polt for the value $I_0 = 600 pA$ \n",
       "we observe that $\\nu$ and the plot is reasonably close\n"
      ],
      "text/plain": [
       "<IPython.core.display.Latex object>"
      ]
     },
     "metadata": {},
     "output_type": "display_data"
    }
   ],
   "source": [
    "%%latex\n",
    "If we compare the red-dotted line on the polt for the value $I_0 = 600 pA$ \n",
    "we observe that $\\nu$ and the plot is reasonably close"
   ]
  },
  {
   "cell_type": "markdown",
   "metadata": {},
   "source": [
    "# e)"
   ]
  },
  {
   "cell_type": "markdown",
   "metadata": {},
   "source": [
    "The refractory period in a neuron is the biologically bi-effect of a spike. During the spike the neuron cell creates a imbalance of the potassium and sodium levels within and outside the cellmembrane. The refractory period is the rebalancing of these, and a few more, elements. "
   ]
  },
  {
   "cell_type": "markdown",
   "metadata": {},
   "source": [
    "# f)"
   ]
  },
  {
   "cell_type": "markdown",
   "metadata": {},
   "source": [
    "Three of many limitations that is mentioned in the Neural dymaics is that the leaky integrate-and-fire model\n",
    "\"simplified\", \"neglects many aspects of neuro dynamics\" and for this task specificly the current is \"integrated linearly independently of the state of the postsynaptic neuron\". "
   ]
  },
  {
   "cell_type": "markdown",
   "metadata": {},
   "source": [
    "# Task 2"
   ]
  },
  {
   "cell_type": "markdown",
   "metadata": {},
   "source": [
    "# a)"
   ]
  },
  {
   "cell_type": "code",
   "execution_count": 66,
   "metadata": {},
   "outputs": [],
   "source": [
    "count = 500\n",
    "thy = np.zeros(count)\n",
    "recliny = np.zeros(count)\n",
    "sigmoidy = np.zeros(count)\n",
    "tanhy = np.zeros(count)\n",
    "\n",
    "#defining the functions\n",
    "def th (x):\n",
    "    if x < 0:\n",
    "        th1 = 0 \n",
    "    else:\n",
    "        th1 = 1\n",
    "    return th1;\n",
    "def reclin (x):\n",
    "    if x < 0:\n",
    "        reclin1 = 0 \n",
    "    else:\n",
    "        reclin1 = x\n",
    "    return reclin1;\n",
    "def sigmoid (x):\n",
    "    sigmoid1 = 1/(1 + np.exp(-1*x))\n",
    "    return sigmoid1;\n",
    "def tanh (x):\n",
    "    tanh1 = (2/(1 + np.exp(-2*x))) - 1\n",
    "    return tanh1;\n",
    "\n",
    "x = np.linspace(-2,2,count)\n",
    "func = [th, reclin, sigmoid, tanh]\n",
    "y = [thy, recliny, sigmoidy, tanhy]\n",
    "\n",
    "#calculationg the function values for the input arguments in x\n",
    "for j in range(0,4):       \n",
    "    for i in range(0,count):\n",
    "        y[j][i] = func[j](x[i])"
   ]
  },
  {
   "cell_type": "code",
   "execution_count": 67,
   "metadata": {},
   "outputs": [
    {
     "data": {
      "text/plain": [
       "[<matplotlib.lines.Line2D at 0x2677501e5f8>]"
      ]
     },
     "execution_count": 67,
     "metadata": {},
     "output_type": "execute_result"
    },
    {
     "data": {
      "image/png": "[encoded data removed]",
      "text/plain": [
       "<Figure size 432x288 with 1 Axes>"
      ]
     },
     "metadata": {
      "needs_background": "light"
     },
     "output_type": "display_data"
    }
   ],
   "source": [
    "\n",
    "#plotting the functions\n",
    "plt.plot(x,y[0])\n",
    "plt.plot(x,y[1],'--r')\n",
    "plt.plot(x,y[2],'--b')\n",
    "plt.plot(x,y[3],'y')"
   ]
  },
  {
   "cell_type": "markdown",
   "metadata": {},
   "source": [
    "# b)"
   ]
  },
  {
   "cell_type": "markdown",
   "metadata": {},
   "source": []
  },
  {
   "cell_type": "markdown",
   "metadata": {},
   "source": [
    "# c)\n"
   ]
  },
  {
   "cell_type": "code",
   "execution_count": 140,
   "metadata": {},
   "outputs": [
    {
     "data": {
      "text/latex": [
       "The quantities $\\textbf{x}$, $\\textbf{w}$ and b is the input vector signal, the weight vector(for the input signal) and threshold bias respectively. \n",
       "\n",
       "The functions can be seen below in $\\textbf{d)}$\n"
      ],
      "text/plain": [
       "<IPython.core.display.Latex object>"
      ]
     },
     "metadata": {},
     "output_type": "display_data"
    }
   ],
   "source": [
    "%%latex\n",
    "The quantities $\\textbf{x}$, $\\textbf{w}$ and b is the input vector signal, the weight vector(for the input signal) and threshold bias respectively. \n",
    "\n",
    "The functions can be seen below in $\\textbf{d)}$"
   ]
  },
  {
   "cell_type": "markdown",
   "metadata": {},
   "source": [
    "# d)"
   ]
  },
  {
   "cell_type": "code",
   "execution_count": 141,
   "metadata": {},
   "outputs": [],
   "source": [
    "Xin = [[1,1],[1,0],[0,1],[0,0]]\n",
    "Weights = [1,1]\n",
    "Y = np.zeros(4)\n",
    "b = 0\n",
    "def perceptron (X , W , b):\n",
    "    percep = np.dot(X , W)\n",
    "    percep = percep + b\n",
    "    return percep;\n",
    "def activation (x):\n",
    "    if x < 2:\n",
    "        y = 1\n",
    "    if x >= 2:\n",
    "        y = 0\n",
    "    return y; \n",
    "for i in range(0,4):\n",
    "    z = perceptron(Xin[i],Weights,b)\n",
    "    Y[i] = activation(z)"
   ]
  },
  {
   "cell_type": "code",
   "execution_count": 142,
   "metadata": {},
   "outputs": [
    {
     "data": {
      "text/plain": [
       "[<matplotlib.lines.Line2D at 0x267766b5278>]"
      ]
     },
     "execution_count": 142,
     "metadata": {},
     "output_type": "execute_result"
    },
    {
     "data": {
      "image/png": "[encoded data removed]",
      "text/plain": [
       "<Figure size 432x288 with 1 Axes>"
      ]
     },
     "metadata": {
      "needs_background": "light"
     },
     "output_type": "display_data"
    }
   ],
   "source": [
    "t = np.zeros(4)\n",
    "plt.plot(Y)\n",
    "for i in range(0,4):\n",
    "    t[i] = Xin[i][0] +Xin[i][1] \n",
    "plt.plot(t,'--o')\n"
   ]
  },
  {
   "cell_type": "markdown",
   "metadata": {},
   "source": [
    "# e)"
   ]
  },
  {
   "cell_type": "code",
   "execution_count": 144,
   "metadata": {},
   "outputs": [],
   "source": [
    "Xin2 = [[1,1],[1,0],[0,1],[0,0]]\n",
    "Weights2 = [1,1]\n",
    "Y2 = np.zeros(4)\n",
    "b2 = 0\n",
    "def perceptron (X , W , b):\n",
    "    percep = np.dot(X , W)\n",
    "    percep = percep + b\n",
    "    return percep;\n",
    "def activation (x):\n",
    "    if x < 2 and x > 0:\n",
    "        y = 1\n",
    "    if x >= 2 or x<= 0:\n",
    "        y = 0\n",
    "    return y; \n",
    "for i in range(0,4):\n",
    "    z = perceptron(Xin[i],Weights,b)\n",
    "    Y2[i] = activation(z)"
   ]
  },
  {
   "cell_type": "code",
   "execution_count": 145,
   "metadata": {},
   "outputs": [
    {
     "data": {
      "text/plain": [
       "[<matplotlib.lines.Line2D at 0x267765f9e80>]"
      ]
     },
     "execution_count": 145,
     "metadata": {},
     "output_type": "execute_result"
    },
    {
     "data": {
      "image/png": "[encoded data removed]",
      "text/plain": [
       "<Figure size 432x288 with 1 Axes>"
      ]
     },
     "metadata": {
      "needs_background": "light"
     },
     "output_type": "display_data"
    }
   ],
   "source": [
    "t = np.zeros(4)\n",
    "plt.plot(Y2)\n",
    "for i in range(0,4):\n",
    "    t[i] = Xin2[i][0] +Xin2[i][1] \n",
    "plt.plot(t,'--o')"
   ]
  },
  {
   "cell_type": "code",
   "execution_count": 154,
   "metadata": {},
   "outputs": [
    {
     "data": {
      "text/latex": [
       "Yes since theres not a specific value for the weights we can put $\\textbf{w}_1 = 1$ and $\\textbf{w}_2 = 1$,  which makes\n",
       "the input signals have equal impact for the output signal.\n",
       "As the plot above shows the when both input signals, $\\textbf{x}_1$ and $\\textbf{x}_2$, is active there is not output signal and when only one of the input signals is active then there is a output signal.\n"
      ],
      "text/plain": [
       "<IPython.core.display.Latex object>"
      ]
     },
     "metadata": {},
     "output_type": "display_data"
    }
   ],
   "source": [
    "%%latex \n",
    "Yes since theres not a specific value for the weights we can put $\\textbf{w}_1 = 1$ and $\\textbf{w}_2 = 1$,  which makes\n",
    "the input signals have equal impact for the output signal.\n",
    "As the plot above shows the when both input signals, $\\textbf{x}_1$ and $\\textbf{x}_2$, is active there is not output signal and when only one of the input signals is active then there is a output signal."
   ]
  },
  {
   "cell_type": "markdown",
   "metadata": {},
   "source": [
    "# f)"
   ]
  },
  {
   "cell_type": "markdown",
   "metadata": {},
   "source": [
    "From the logical standpoint the current flowing into the neuron cell through the synapses can approximately be described as a sum of N, where N is large, discrete currents that can either be on or off. The bias can be described, like in the lectrue notes, as the threshold. The weights in this case is all equal since the input signals are either on or off and each inputsignal has the same impact on the output signals and the other. If the current, the amount of active input signals, is sufficient enought the threshold will be reached and a signal, the output signal, will be forwarded or in the biological sense a spike will be emitted."
   ]
  },
  {
   "cell_type": "markdown",
   "metadata": {},
   "source": [
    "# Task 3"
   ]
  },
  {
   "cell_type": "code",
   "execution_count": 1,
   "metadata": {},
   "outputs": [
    {
     "name": "stdout",
     "output_type": "stream",
     "text": [
      "1\n"
     ]
    }
   ],
   "source": [
    "NUM = [[1,1,1,1,1,1,0],[0,1,1,0,0,0,0],[1,1,0,1,1,0,1],[1,1,1,1,0,0,1],[0,1,1,0,0,1,1],\n",
    "       [1,0,1,1,0,1,1],[1,0,1,1,1,1,1],[1,1,1,1,0,0,0]\n",
    "       \n",
    "if x == [1,1,1,1,0]:\n",
    "    print(1)"
   ]
  },
  {
   "cell_type": "code",
   "execution_count": null,
   "metadata": {},
   "outputs": [],
   "source": []
  }
 ],
 "metadata": {
  "kernelspec": {
   "display_name": "Python 3",
   "language": "python",
   "name": "python3"
  },
  "language_info": {
   "codemirror_mode": {
    "name": "ipython",
    "version": 3
   },
   "file_extension": ".py",
   "mimetype": "text/x-python",
   "name": "python",
   "nbconvert_exporter": "python",
   "pygments_lexer": "ipython3",
   "version": "3.7.1"
  }
 },
 "nbformat": 4,
 "nbformat_minor": 2
}
